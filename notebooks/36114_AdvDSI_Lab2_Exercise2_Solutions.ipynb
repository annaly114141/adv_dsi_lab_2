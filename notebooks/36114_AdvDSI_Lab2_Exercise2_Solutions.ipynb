{
 "cells": [
  {
   "cell_type": "markdown",
   "metadata": {
    "id": "uQ6wc2HE0pke"
   },
   "source": [
    "# **Lab: Model Optimization**\n",
    "\n"
   ]
  },
  {
   "cell_type": "markdown",
   "metadata": {
    "id": "tQgxLRrvjiJb"
   },
   "source": [
    "## Exercise 2: Xgboost with Hyperopt\n",
    "\n",
    "We will train a Xgboost model on the same dataset as previously usiong Hyperopt.\n",
    "\n",
    "\n",
    "**Pre-requisites:**\n",
    "- Create a github account (https://github.com/join)\n",
    "- Install git (https://git-scm.com/book/en/v2/Getting-Started-Installing-Git)\n",
    "- Install Docker (https://docs.docker.com/get-docker/)\n",
    "\n",
    "The steps are:\n",
    "1.   Launch Docker image\n",
    "2.   Load Data\n",
    "3.   Train Xgboost model with defauly hyperparameter\n",
    "4.   Hyperparameter tuning with Hyperopt\n",
    "5.   Push changes\n"
   ]
  },
  {
   "cell_type": "markdown",
   "metadata": {
    "id": "smh_LhVjIg9s"
   },
   "source": [
    "### 1. Launch Docker image"
   ]
  },
  {
   "cell_type": "markdown",
   "metadata": {
    "id": "P7KRLjcRn2d4"
   },
   "source": [
    "**[1.1]** Go to the folder you created previously `adv_dsi_lab_2`"
   ]
  },
  {
   "cell_type": "code",
   "execution_count": null,
   "metadata": {
    "id": "xBNTTx7UAVCV"
   },
   "outputs": [],
   "source": [
    "# Placeholder for student's code (command line)"
   ]
  },
  {
   "cell_type": "code",
   "execution_count": 3,
   "metadata": {
    "id": "hsv0dkk1n7Bg"
   },
   "outputs": [
    {
     "ename": "NameError",
     "evalue": "name 'cd' is not defined",
     "output_type": "error",
     "traceback": [
      "\u001b[0;31m---------------------------------------------------------------------------\u001b[0m",
      "\u001b[0;31mNameError\u001b[0m                                 Traceback (most recent call last)",
      "Cell \u001b[0;32mIn [3], line 2\u001b[0m\n\u001b[1;32m      1\u001b[0m \u001b[38;5;66;03m# Solution:\u001b[39;00m\n\u001b[0;32m----> 2\u001b[0m \u001b[43mcd\u001b[49m \u001b[38;5;241m/\u001b[39mUsers\u001b[38;5;241m/\u001b[39manna\u001b[38;5;241m/\u001b[39mDesktop\u001b[38;5;241m/\u001b[39mADV_DSI\u001b[38;5;241m/\u001b[39madv_dsi_2023\u001b[38;5;241m/\u001b[39madv_dsi_lab_2\n",
      "\u001b[0;31mNameError\u001b[0m: name 'cd' is not defined"
     ]
    }
   ],
   "source": [
    "# Solution:\n",
    "cd ~/Users/anna/Desktop/ADV_DSI/adv_dsi_2023/adv_dsi_lab_2"
   ]
  },
  {
   "cell_type": "markdown",
   "metadata": {
    "id": "urrLvZmTUX23"
   },
   "source": [
    "**[1.2]** Run the built Docker image"
   ]
  },
  {
   "cell_type": "code",
   "execution_count": null,
   "metadata": {
    "id": "eMou7Dgc-5wP"
   },
   "outputs": [],
   "source": [
    "# Placeholder for student's code (command line)"
   ]
  },
  {
   "cell_type": "code",
   "execution_count": null,
   "metadata": {
    "id": "nDAwl-fSVgIe"
   },
   "outputs": [],
   "source": [
    "# Solution:\n",
    "docker run  -dit --rm --name adv_dsi_lab_2 -p 8888:8888 -e JUPYTER_ENABLE_LAB=yes -v ~/Projects/adv_dsi_2023/adv_dsi_lab_2:/home/jovyan/work -v ~/Projects/adv_dsi_2023/.aws:/home/jovyan/.aws -v ~/Projects/adv_dsi_2023/src:/home/jovyan/work/src xgboost-notebook:latest "
   ]
  },
  {
   "cell_type": "markdown",
   "metadata": {
    "id": "vP0EUHpaX_-m"
   },
   "source": [
    "Syntax: docker run [OPTIONS] IMAGE\n",
    "\n",
    "Options:\n",
    "\n",
    "`-dit: Run container in background and interactive`\n",
    "\n",
    "`--rm: Automatically remove the container when it exits`\n",
    "\n",
    "`--name: Assign a name to the container`\n",
    "\n",
    "`-p: Publish a container's port(s) to the host`\n",
    "\n",
    "`-e: Set environment variables`\n",
    "\n",
    "`-v Bind mount a volume`\n",
    "\n",
    "Documentation: https://docs.docker.com/engine/reference/commandline/run/"
   ]
  },
  {
   "cell_type": "markdown",
   "metadata": {
    "id": "4fO9RJMhwGpM"
   },
   "source": [
    "**[1.3]** Display last 50 lines of logs"
   ]
  },
  {
   "cell_type": "code",
   "execution_count": null,
   "metadata": {
    "id": "tly6t5yv-896"
   },
   "outputs": [],
   "source": [
    "# Placeholder for student's code (command line)"
   ]
  },
  {
   "cell_type": "code",
   "execution_count": null,
   "metadata": {
    "id": "RwizA-K3wGyb"
   },
   "outputs": [],
   "source": [
    "# Solution\n",
    "docker logs --tail 50 adv_dsi_lab_3"
   ]
  },
  {
   "cell_type": "markdown",
   "metadata": {
    "id": "5gKuxsPkZrjB"
   },
   "source": [
    "Syntax: docker logs [OPTIONS] CONTAINER\n",
    "\n",
    "Options:\n",
    "\n",
    "`--tail: Number of lines to show from the end of the logs`\n",
    "\n",
    "Documentation: https://docs.docker.com/engine/reference/commandline/logs/"
   ]
  },
  {
   "cell_type": "markdown",
   "metadata": {
    "id": "QxkJaPioCmEO"
   },
   "source": [
    "**[1.4]** Copy the url displayed and paste it to a browser in order to launch Jupyter Lab"
   ]
  },
  {
   "cell_type": "markdown",
   "metadata": {
    "id": "jxQRDLu2C6D4"
   },
   "source": [
    "**[1.5]** Create a new git branch called `xgboost_hyperopt`"
   ]
  },
  {
   "cell_type": "code",
   "execution_count": null,
   "metadata": {
    "id": "6BYwR6hG-911"
   },
   "outputs": [],
   "source": [
    "# Placeholder for student's code (command line)"
   ]
  },
  {
   "cell_type": "code",
   "execution_count": null,
   "metadata": {
    "id": "zBD6K4MXC6rA"
   },
   "outputs": [],
   "source": [
    "# Solution\n",
    "git checkout -b xgboost_hyperopt"
   ]
  },
  {
   "cell_type": "markdown",
   "metadata": {
    "id": "bR8U5ATZalkz"
   },
   "source": [
    "Documentation: https://www.atlassian.com/git/tutorials/using-branches/git-checkout"
   ]
  },
  {
   "cell_type": "markdown",
   "metadata": {
    "id": "yTjwF_joDWnE"
   },
   "source": [
    "**[1.6]** Navigate the folder `notebooks` and create a new jupyter notebook called `2_xgboost_hyperopt.ipynb`"
   ]
  },
  {
   "cell_type": "markdown",
   "metadata": {
    "id": "_NCwQQFkU3v5"
   },
   "source": [
    "### 2. Load Data"
   ]
  },
  {
   "cell_type": "markdown",
   "metadata": {
    "id": "4JI0kZJxpkoK"
   },
   "source": [
    "**[2.1]** Import the function you created `load_sets` from `src/data/sets`"
   ]
  },
  {
   "cell_type": "code",
   "execution_count": null,
   "metadata": {
    "id": "85PHb6M7p57j"
   },
   "outputs": [],
   "source": [
    "# Placeholder for student's code (Python code)"
   ]
  },
  {
   "cell_type": "code",
   "execution_count": 4,
   "metadata": {
    "id": "1sXpjWA8pz0q"
   },
   "outputs": [],
   "source": [
    "# Solution\n",
    "from src.data.sets import load_sets"
   ]
  },
  {
   "cell_type": "markdown",
   "metadata": {
    "id": "R-Zy6Oq8pkuB"
   },
   "source": [
    "**[2.2]** Load the saved sets from `data/processed`"
   ]
  },
  {
   "cell_type": "code",
   "execution_count": 5,
   "metadata": {
    "id": "ZresJIasqpgH"
   },
   "outputs": [],
   "source": [
    "# Placeholder for student's code (Python code)"
   ]
  },
  {
   "cell_type": "code",
   "execution_count": 6,
   "metadata": {
    "id": "Q1iETWjDftMg"
   },
   "outputs": [],
   "source": [
    "#Solution:\n",
    "X_train, y_train, X_val, y_val, X_test, y_test = load_sets(path='../data/processed/')"
   ]
  },
  {
   "cell_type": "markdown",
   "metadata": {
    "id": "K_m-WMllhVqG"
   },
   "source": [
    "# 3. Train Xgboost model"
   ]
  },
  {
   "cell_type": "markdown",
   "metadata": {
    "id": "ImPSPeLcQrS5"
   },
   "source": [
    "**[3.1]** Import the xgboost package as xgb\n"
   ]
  },
  {
   "cell_type": "code",
   "execution_count": 7,
   "metadata": {
    "id": "Oqu0mLfnQrZX"
   },
   "outputs": [],
   "source": [
    "# Placeholder for student's code (Python code)"
   ]
  },
  {
   "cell_type": "code",
   "execution_count": 8,
   "metadata": {
    "id": "hh2wmK9wQrcB"
   },
   "outputs": [],
   "source": [
    "# Solution:\n",
    "import xgboost as xgb"
   ]
  },
  {
   "cell_type": "markdown",
   "metadata": {
    "id": "m00Ks05tQsJb"
   },
   "source": [
    "**[3.2]** Instantiate the RandomForest class into a variable called rf with random_state=8"
   ]
  },
  {
   "cell_type": "code",
   "execution_count": null,
   "metadata": {
    "id": "x--MSD6_QsRV"
   },
   "outputs": [],
   "source": [
    "# Placeholder for student's code (Python code)"
   ]
  },
  {
   "cell_type": "code",
   "execution_count": 12,
   "metadata": {
    "id": "oijeWjaIQsT9"
   },
   "outputs": [],
   "source": [
    "# Solution\n",
    "xgboost1 = xgb.XGBClassifier(seed=42)"
   ]
  },
  {
   "cell_type": "markdown",
   "metadata": {
    "id": "Ao86WklhRj-F"
   },
   "source": [
    "**[3.3]** Task: Fit the model with the prepared data"
   ]
  },
  {
   "cell_type": "code",
   "execution_count": 13,
   "metadata": {
    "id": "lMXMIkJHRkHz"
   },
   "outputs": [],
   "source": [
    "# Placeholder for student's code (Python code)"
   ]
  },
  {
   "cell_type": "code",
   "execution_count": 14,
   "metadata": {
    "id": "rprce0GGRkKb",
    "outputId": "63ca62c2-6975-453f-9321-f3bae13cace5"
   },
   "outputs": [
    {
     "data": {
      "text/html": [
       "<style>#sk-container-id-2 {color: black;background-color: white;}#sk-container-id-2 pre{padding: 0;}#sk-container-id-2 div.sk-toggleable {background-color: white;}#sk-container-id-2 label.sk-toggleable__label {cursor: pointer;display: block;width: 100%;margin-bottom: 0;padding: 0.3em;box-sizing: border-box;text-align: center;}#sk-container-id-2 label.sk-toggleable__label-arrow:before {content: \"▸\";float: left;margin-right: 0.25em;color: #696969;}#sk-container-id-2 label.sk-toggleable__label-arrow:hover:before {color: black;}#sk-container-id-2 div.sk-estimator:hover label.sk-toggleable__label-arrow:before {color: black;}#sk-container-id-2 div.sk-toggleable__content {max-height: 0;max-width: 0;overflow: hidden;text-align: left;background-color: #f0f8ff;}#sk-container-id-2 div.sk-toggleable__content pre {margin: 0.2em;color: black;border-radius: 0.25em;background-color: #f0f8ff;}#sk-container-id-2 input.sk-toggleable__control:checked~div.sk-toggleable__content {max-height: 200px;max-width: 100%;overflow: auto;}#sk-container-id-2 input.sk-toggleable__control:checked~label.sk-toggleable__label-arrow:before {content: \"▾\";}#sk-container-id-2 div.sk-estimator input.sk-toggleable__control:checked~label.sk-toggleable__label {background-color: #d4ebff;}#sk-container-id-2 div.sk-label input.sk-toggleable__control:checked~label.sk-toggleable__label {background-color: #d4ebff;}#sk-container-id-2 input.sk-hidden--visually {border: 0;clip: rect(1px 1px 1px 1px);clip: rect(1px, 1px, 1px, 1px);height: 1px;margin: -1px;overflow: hidden;padding: 0;position: absolute;width: 1px;}#sk-container-id-2 div.sk-estimator {font-family: monospace;background-color: #f0f8ff;border: 1px dotted black;border-radius: 0.25em;box-sizing: border-box;margin-bottom: 0.5em;}#sk-container-id-2 div.sk-estimator:hover {background-color: #d4ebff;}#sk-container-id-2 div.sk-parallel-item::after {content: \"\";width: 100%;border-bottom: 1px solid gray;flex-grow: 1;}#sk-container-id-2 div.sk-label:hover label.sk-toggleable__label {background-color: #d4ebff;}#sk-container-id-2 div.sk-serial::before {content: \"\";position: absolute;border-left: 1px solid gray;box-sizing: border-box;top: 0;bottom: 0;left: 50%;z-index: 0;}#sk-container-id-2 div.sk-serial {display: flex;flex-direction: column;align-items: center;background-color: white;padding-right: 0.2em;padding-left: 0.2em;position: relative;}#sk-container-id-2 div.sk-item {position: relative;z-index: 1;}#sk-container-id-2 div.sk-parallel {display: flex;align-items: stretch;justify-content: center;background-color: white;position: relative;}#sk-container-id-2 div.sk-item::before, #sk-container-id-2 div.sk-parallel-item::before {content: \"\";position: absolute;border-left: 1px solid gray;box-sizing: border-box;top: 0;bottom: 0;left: 50%;z-index: -1;}#sk-container-id-2 div.sk-parallel-item {display: flex;flex-direction: column;z-index: 1;position: relative;background-color: white;}#sk-container-id-2 div.sk-parallel-item:first-child::after {align-self: flex-end;width: 50%;}#sk-container-id-2 div.sk-parallel-item:last-child::after {align-self: flex-start;width: 50%;}#sk-container-id-2 div.sk-parallel-item:only-child::after {width: 0;}#sk-container-id-2 div.sk-dashed-wrapped {border: 1px dashed gray;margin: 0 0.4em 0.5em 0.4em;box-sizing: border-box;padding-bottom: 0.4em;background-color: white;}#sk-container-id-2 div.sk-label label {font-family: monospace;font-weight: bold;display: inline-block;line-height: 1.2em;}#sk-container-id-2 div.sk-label-container {text-align: center;}#sk-container-id-2 div.sk-container {/* jupyter's `normalize.less` sets `[hidden] { display: none; }` but bootstrap.min.css set `[hidden] { display: none !important; }` so we also need the `!important` here to be able to override the default hidden behavior on the sphinx rendered scikit-learn.org. See: https://github.com/scikit-learn/scikit-learn/issues/21755 */display: inline-block !important;position: relative;}#sk-container-id-2 div.sk-text-repr-fallback {display: none;}</style><div id=\"sk-container-id-2\" class=\"sk-top-container\"><div class=\"sk-text-repr-fallback\"><pre>XGBClassifier(base_score=None, booster=None, callbacks=None,\n",
       "              colsample_bylevel=None, colsample_bynode=None,\n",
       "              colsample_bytree=None, early_stopping_rounds=None,\n",
       "              enable_categorical=False, eval_metric=None, feature_types=None,\n",
       "              gamma=None, gpu_id=None, grow_policy=None, importance_type=None,\n",
       "              interaction_constraints=None, learning_rate=None, max_bin=None,\n",
       "              max_cat_threshold=None, max_cat_to_onehot=None,\n",
       "              max_delta_step=None, max_depth=None, max_leaves=None,\n",
       "              min_child_weight=None, missing=nan, monotone_constraints=None,\n",
       "              n_estimators=100, n_jobs=None, num_parallel_tree=None,\n",
       "              objective=&#x27;multi:softprob&#x27;, predictor=None, ...)</pre><b>In a Jupyter environment, please rerun this cell to show the HTML representation or trust the notebook. <br />On GitHub, the HTML representation is unable to render, please try loading this page with nbviewer.org.</b></div><div class=\"sk-container\" hidden><div class=\"sk-item\"><div class=\"sk-estimator sk-toggleable\"><input class=\"sk-toggleable__control sk-hidden--visually\" id=\"sk-estimator-id-2\" type=\"checkbox\" checked><label for=\"sk-estimator-id-2\" class=\"sk-toggleable__label sk-toggleable__label-arrow\">XGBClassifier</label><div class=\"sk-toggleable__content\"><pre>XGBClassifier(base_score=None, booster=None, callbacks=None,\n",
       "              colsample_bylevel=None, colsample_bynode=None,\n",
       "              colsample_bytree=None, early_stopping_rounds=None,\n",
       "              enable_categorical=False, eval_metric=None, feature_types=None,\n",
       "              gamma=None, gpu_id=None, grow_policy=None, importance_type=None,\n",
       "              interaction_constraints=None, learning_rate=None, max_bin=None,\n",
       "              max_cat_threshold=None, max_cat_to_onehot=None,\n",
       "              max_delta_step=None, max_depth=None, max_leaves=None,\n",
       "              min_child_weight=None, missing=nan, monotone_constraints=None,\n",
       "              n_estimators=100, n_jobs=None, num_parallel_tree=None,\n",
       "              objective=&#x27;multi:softprob&#x27;, predictor=None, ...)</pre></div></div></div></div></div>"
      ],
      "text/plain": [
       "XGBClassifier(base_score=None, booster=None, callbacks=None,\n",
       "              colsample_bylevel=None, colsample_bynode=None,\n",
       "              colsample_bytree=None, early_stopping_rounds=None,\n",
       "              enable_categorical=False, eval_metric=None, feature_types=None,\n",
       "              gamma=None, gpu_id=None, grow_policy=None, importance_type=None,\n",
       "              interaction_constraints=None, learning_rate=None, max_bin=None,\n",
       "              max_cat_threshold=None, max_cat_to_onehot=None,\n",
       "              max_delta_step=None, max_depth=None, max_leaves=None,\n",
       "              min_child_weight=None, missing=nan, monotone_constraints=None,\n",
       "              n_estimators=100, n_jobs=None, num_parallel_tree=None,\n",
       "              objective='multi:softprob', predictor=None, ...)"
      ]
     },
     "execution_count": 14,
     "metadata": {},
     "output_type": "execute_result"
    }
   ],
   "source": [
    "# Solution\n",
    "xgboost1.fit(X_train, y_train)"
   ]
  },
  {
   "cell_type": "markdown",
   "metadata": {
    "id": "LZFys_bhRtu-"
   },
   "source": [
    "**[3.4]** Import `dump` from `joblib` and save the fitted model into the folder `models` as a file called `xgboost_default`"
   ]
  },
  {
   "cell_type": "code",
   "execution_count": 15,
   "metadata": {
    "id": "QzHfn9UORt2e"
   },
   "outputs": [],
   "source": [
    "# Placeholder for student's code (Python code)"
   ]
  },
  {
   "cell_type": "code",
   "execution_count": 16,
   "metadata": {
    "id": "3Yn_xbLxRt4y",
    "outputId": "b835f8af-2573-48e5-bf0b-e2a0d188c498"
   },
   "outputs": [
    {
     "data": {
      "text/plain": [
       "['../models/xgboost_default.joblib']"
      ]
     },
     "execution_count": 16,
     "metadata": {},
     "output_type": "execute_result"
    }
   ],
   "source": [
    "# Solution:\n",
    "from joblib import dump \n",
    "\n",
    "dump(xgboost1,  '../models/xgboost_default.joblib')"
   ]
  },
  {
   "cell_type": "markdown",
   "metadata": {
    "id": "xMvlK3mkfk0Q"
   },
   "source": [
    "**[3.5]** Save the predictions from this model for the training and validation sets into 2 variables called `y_train_preds` and `y_val_preds`\n"
   ]
  },
  {
   "cell_type": "code",
   "execution_count": 17,
   "metadata": {
    "id": "xOVFv7mFfk6D"
   },
   "outputs": [],
   "source": [
    "# Placeholder for student's code (Python code)"
   ]
  },
  {
   "cell_type": "code",
   "execution_count": 18,
   "metadata": {
    "id": "BTkCfP4lfk86"
   },
   "outputs": [],
   "source": [
    "# Solution:\n",
    "y_train_preds = xgboost1.predict(X_train)\n",
    "y_val_preds = xgboost1.predict(X_val)"
   ]
  },
  {
   "cell_type": "markdown",
   "metadata": {
    "id": "Y5npD0dOhhzK"
   },
   "source": [
    "**[3.6]** Import `print_reg_perf` from `src/models/performance` and display the accuracy and f1 scores of this baseline model on the training and validation sets"
   ]
  },
  {
   "cell_type": "code",
   "execution_count": 19,
   "metadata": {
    "id": "kWGNX_byhh6_"
   },
   "outputs": [],
   "source": [
    "# Placeholder for student's code (Python code)"
   ]
  },
  {
   "cell_type": "code",
   "execution_count": 20,
   "metadata": {
    "id": "lt4gAHbynz07",
    "outputId": "f048ac46-5eb0-4000-eabb-0918a6a8b986"
   },
   "outputs": [
    {
     "name": "stdout",
     "output_type": "stream",
     "text": [
      "Accuracy Training: 0.9241359991596344\n",
      "F1 Training: 0.9238615052628725\n",
      "Accuracy Validation: 0.9064686232904052\n",
      "F1 Validation: 0.9059566769889884\n"
     ]
    }
   ],
   "source": [
    "# Solution\n",
    "from src.models.performance import print_class_perf\n",
    "\n",
    "print_class_perf(y_preds=y_train_preds, y_actuals=y_train, set_name='Training', average='weighted')\n",
    "print_class_perf(y_preds=y_val_preds, y_actuals=y_val, set_name='Validation', average='weighted')"
   ]
  },
  {
   "cell_type": "markdown",
   "metadata": {
    "id": "MoU-4xkAwXeg"
   },
   "source": [
    "#4. Hyperparameter tuning with Hyperopt"
   ]
  },
  {
   "cell_type": "markdown",
   "metadata": {
    "id": "h8_1y9IHwXnM"
   },
   "source": [
    "**[4.1]** Import Trials, STATUS_OK, tpe, hp, fmin from hyperopt package"
   ]
  },
  {
   "cell_type": "code",
   "execution_count": 21,
   "metadata": {
    "id": "VJGuzojpwXus"
   },
   "outputs": [],
   "source": [
    "# Placeholder for student's code (Python code)"
   ]
  },
  {
   "cell_type": "code",
   "execution_count": 22,
   "metadata": {
    "id": "lRndcJ2nxjp4"
   },
   "outputs": [],
   "source": [
    "# Solution:\n",
    "from hyperopt import Trials, STATUS_OK, tpe, hp, fmin"
   ]
  },
  {
   "cell_type": "markdown",
   "metadata": {
    "id": "Mck4PVDTxt9T"
   },
   "source": [
    "**[4.2]** Define the search space for xgboost hyperparameters"
   ]
  },
  {
   "cell_type": "code",
   "execution_count": 23,
   "metadata": {
    "id": "laZLSZYsxuEh"
   },
   "outputs": [],
   "source": [
    "space = {\n",
    "    'max_depth' : hp.choice('max_depth', range(5, 8, 1)),\n",
    "    'min_child_weight' : hp.choice('min_child_weight', range(3, 6, 1)),\n",
    "    'learning_rate' : hp.quniform('learning_rate', 0.01, 0.4, 0.05),    \n",
    "    'subsample' : hp.quniform('subsample', 0.7, 1, 0.05),\n",
    "    'colsample_bytree' : hp.quniform('colsample_bytree', 0.2, 0.5, 0.05)\n",
    "}"
   ]
  },
  {
   "cell_type": "markdown",
   "metadata": {
    "id": "8M9Aktt4xyEY"
   },
   "source": [
    "**[4.3]** Define a function called `objective` with the following logics:\n",
    "- input parameters: hyperparameter seacrh space (`space`)\n",
    "- logics: train a xgboost model with the search space and calculate the average accuracy score for cross validation with 5 folds\n",
    "- output parameters: dictionary with the loss score and STATUS_OK"
   ]
  },
  {
   "cell_type": "code",
   "execution_count": 24,
   "metadata": {
    "id": "s4aYuQhpxynj"
   },
   "outputs": [],
   "source": [
    "# Placeholder for student's code (Python code)"
   ]
  },
  {
   "cell_type": "code",
   "execution_count": 25,
   "metadata": {
    "id": "yF8I9wCzxuHV"
   },
   "outputs": [],
   "source": [
    "# Solution:\n",
    "def objective(space):\n",
    "    from sklearn.model_selection import cross_val_score\n",
    "    \n",
    "    xgboost = xgb.XGBClassifier(\n",
    "        max_depth = int(space['max_depth']),\n",
    "        learning_rate = space['learning_rate'],\n",
    "        min_child_weight = space['min_child_weight'],\n",
    "        subsample = space['subsample'],\n",
    "        colsample_bytree = space['colsample_bytree']\n",
    "    )\n",
    "    \n",
    "    acc = cross_val_score(xgboost, X_train, y_train, cv=5, scoring=\"accuracy\").mean()\n",
    "\n",
    "    return{'loss': 1-acc, 'status': STATUS_OK }"
   ]
  },
  {
   "cell_type": "markdown",
   "metadata": {
    "id": "A_ClL57Vzz2e"
   },
   "source": [
    "**[4.4]** Launch Hyperopt search and save the result in a variable called `best`"
   ]
  },
  {
   "cell_type": "code",
   "execution_count": 26,
   "metadata": {
    "id": "Tj22kb4lz0AY",
    "outputId": "f87ebbfb-4322-49bc-edb6-da54e756ccc4"
   },
   "outputs": [
    {
     "name": "stdout",
     "output_type": "stream",
     "text": [
      "100%|██████████| 3/3 [02:34<00:00, 51.55s/trial, best loss: 0.09560558843096756]\n"
     ]
    }
   ],
   "source": [
    "best = fmin(\n",
    "    fn=objective,   \n",
    "    space=space,       \n",
    "    algo=tpe.suggest,       \n",
    "    max_evals=3\n",
    ")"
   ]
  },
  {
   "cell_type": "markdown",
   "metadata": {
    "id": "gJm3Scgp0AMy"
   },
   "source": [
    "**[4.5]** Print the best set of hyperparameters"
   ]
  },
  {
   "cell_type": "code",
   "execution_count": 27,
   "metadata": {
    "id": "tfio_97p0AS8"
   },
   "outputs": [],
   "source": [
    "# Placeholder for student's code (Python code)"
   ]
  },
  {
   "cell_type": "code",
   "execution_count": 28,
   "metadata": {
    "id": "uIBz96z20AVw",
    "outputId": "43c4e6db-055d-400f-ef5f-3f243b5255d5"
   },
   "outputs": [
    {
     "name": "stdout",
     "output_type": "stream",
     "text": [
      "Best:  {'colsample_bytree': 0.45, 'learning_rate': 0.35000000000000003, 'max_depth': 1, 'min_child_weight': 2, 'subsample': 0.8}\n"
     ]
    }
   ],
   "source": [
    "# Solution:\n",
    "print(\"Best: \", best)"
   ]
  },
  {
   "cell_type": "markdown",
   "metadata": {
    "id": "s76GS-Rl0SpV"
   },
   "source": [
    "**[4.6]** Instantiate a XGBClassifier with best set of hyperparameters"
   ]
  },
  {
   "cell_type": "code",
   "execution_count": 29,
   "metadata": {
    "id": "al9WkXFz0SxG"
   },
   "outputs": [],
   "source": [
    "# Placeholder for student's code (Python code)"
   ]
  },
  {
   "cell_type": "code",
   "execution_count": 30,
   "metadata": {
    "id": "BhalZZ3J0S6v"
   },
   "outputs": [],
   "source": [
    "# Solution:\n",
    "xgboost2 = xgb.XGBClassifier(\n",
    "    max_depth = best['max_depth'],\n",
    "    learning_rate = best['learning_rate'],\n",
    "    min_child_weight = best['min_child_weight'],\n",
    "    subsample = best['subsample'],\n",
    "    colsample_bytree = best['colsample_bytree']\n",
    ")"
   ]
  },
  {
   "cell_type": "markdown",
   "metadata": {
    "id": "nA9e_8Xv0kIg"
   },
   "source": [
    "**[4.7]** Fit the model with the prepared data"
   ]
  },
  {
   "cell_type": "code",
   "execution_count": 31,
   "metadata": {
    "id": "2vywZGHU0kQd"
   },
   "outputs": [],
   "source": [
    "# Placeholder for student's code (Python code)"
   ]
  },
  {
   "cell_type": "code",
   "execution_count": 32,
   "metadata": {
    "id": "ycPhI0XC0kR3",
    "outputId": "cd01c02f-b8f6-4410-c51a-224ed0b5d53e"
   },
   "outputs": [
    {
     "data": {
      "text/html": [
       "<style>#sk-container-id-3 {color: black;background-color: white;}#sk-container-id-3 pre{padding: 0;}#sk-container-id-3 div.sk-toggleable {background-color: white;}#sk-container-id-3 label.sk-toggleable__label {cursor: pointer;display: block;width: 100%;margin-bottom: 0;padding: 0.3em;box-sizing: border-box;text-align: center;}#sk-container-id-3 label.sk-toggleable__label-arrow:before {content: \"▸\";float: left;margin-right: 0.25em;color: #696969;}#sk-container-id-3 label.sk-toggleable__label-arrow:hover:before {color: black;}#sk-container-id-3 div.sk-estimator:hover label.sk-toggleable__label-arrow:before {color: black;}#sk-container-id-3 div.sk-toggleable__content {max-height: 0;max-width: 0;overflow: hidden;text-align: left;background-color: #f0f8ff;}#sk-container-id-3 div.sk-toggleable__content pre {margin: 0.2em;color: black;border-radius: 0.25em;background-color: #f0f8ff;}#sk-container-id-3 input.sk-toggleable__control:checked~div.sk-toggleable__content {max-height: 200px;max-width: 100%;overflow: auto;}#sk-container-id-3 input.sk-toggleable__control:checked~label.sk-toggleable__label-arrow:before {content: \"▾\";}#sk-container-id-3 div.sk-estimator input.sk-toggleable__control:checked~label.sk-toggleable__label {background-color: #d4ebff;}#sk-container-id-3 div.sk-label input.sk-toggleable__control:checked~label.sk-toggleable__label {background-color: #d4ebff;}#sk-container-id-3 input.sk-hidden--visually {border: 0;clip: rect(1px 1px 1px 1px);clip: rect(1px, 1px, 1px, 1px);height: 1px;margin: -1px;overflow: hidden;padding: 0;position: absolute;width: 1px;}#sk-container-id-3 div.sk-estimator {font-family: monospace;background-color: #f0f8ff;border: 1px dotted black;border-radius: 0.25em;box-sizing: border-box;margin-bottom: 0.5em;}#sk-container-id-3 div.sk-estimator:hover {background-color: #d4ebff;}#sk-container-id-3 div.sk-parallel-item::after {content: \"\";width: 100%;border-bottom: 1px solid gray;flex-grow: 1;}#sk-container-id-3 div.sk-label:hover label.sk-toggleable__label {background-color: #d4ebff;}#sk-container-id-3 div.sk-serial::before {content: \"\";position: absolute;border-left: 1px solid gray;box-sizing: border-box;top: 0;bottom: 0;left: 50%;z-index: 0;}#sk-container-id-3 div.sk-serial {display: flex;flex-direction: column;align-items: center;background-color: white;padding-right: 0.2em;padding-left: 0.2em;position: relative;}#sk-container-id-3 div.sk-item {position: relative;z-index: 1;}#sk-container-id-3 div.sk-parallel {display: flex;align-items: stretch;justify-content: center;background-color: white;position: relative;}#sk-container-id-3 div.sk-item::before, #sk-container-id-3 div.sk-parallel-item::before {content: \"\";position: absolute;border-left: 1px solid gray;box-sizing: border-box;top: 0;bottom: 0;left: 50%;z-index: -1;}#sk-container-id-3 div.sk-parallel-item {display: flex;flex-direction: column;z-index: 1;position: relative;background-color: white;}#sk-container-id-3 div.sk-parallel-item:first-child::after {align-self: flex-end;width: 50%;}#sk-container-id-3 div.sk-parallel-item:last-child::after {align-self: flex-start;width: 50%;}#sk-container-id-3 div.sk-parallel-item:only-child::after {width: 0;}#sk-container-id-3 div.sk-dashed-wrapped {border: 1px dashed gray;margin: 0 0.4em 0.5em 0.4em;box-sizing: border-box;padding-bottom: 0.4em;background-color: white;}#sk-container-id-3 div.sk-label label {font-family: monospace;font-weight: bold;display: inline-block;line-height: 1.2em;}#sk-container-id-3 div.sk-label-container {text-align: center;}#sk-container-id-3 div.sk-container {/* jupyter's `normalize.less` sets `[hidden] { display: none; }` but bootstrap.min.css set `[hidden] { display: none !important; }` so we also need the `!important` here to be able to override the default hidden behavior on the sphinx rendered scikit-learn.org. See: https://github.com/scikit-learn/scikit-learn/issues/21755 */display: inline-block !important;position: relative;}#sk-container-id-3 div.sk-text-repr-fallback {display: none;}</style><div id=\"sk-container-id-3\" class=\"sk-top-container\"><div class=\"sk-text-repr-fallback\"><pre>XGBClassifier(base_score=None, booster=None, callbacks=None,\n",
       "              colsample_bylevel=None, colsample_bynode=None,\n",
       "              colsample_bytree=0.45, early_stopping_rounds=None,\n",
       "              enable_categorical=False, eval_metric=None, feature_types=None,\n",
       "              gamma=None, gpu_id=None, grow_policy=None, importance_type=None,\n",
       "              interaction_constraints=None, learning_rate=0.35000000000000003,\n",
       "              max_bin=None, max_cat_threshold=None, max_cat_to_onehot=None,\n",
       "              max_delta_step=None, max_depth=1, max_leaves=None,\n",
       "              min_child_weight=2, missing=nan, monotone_constraints=None,\n",
       "              n_estimators=100, n_jobs=None, num_parallel_tree=None,\n",
       "              objective=&#x27;multi:softprob&#x27;, predictor=None, ...)</pre><b>In a Jupyter environment, please rerun this cell to show the HTML representation or trust the notebook. <br />On GitHub, the HTML representation is unable to render, please try loading this page with nbviewer.org.</b></div><div class=\"sk-container\" hidden><div class=\"sk-item\"><div class=\"sk-estimator sk-toggleable\"><input class=\"sk-toggleable__control sk-hidden--visually\" id=\"sk-estimator-id-3\" type=\"checkbox\" checked><label for=\"sk-estimator-id-3\" class=\"sk-toggleable__label sk-toggleable__label-arrow\">XGBClassifier</label><div class=\"sk-toggleable__content\"><pre>XGBClassifier(base_score=None, booster=None, callbacks=None,\n",
       "              colsample_bylevel=None, colsample_bynode=None,\n",
       "              colsample_bytree=0.45, early_stopping_rounds=None,\n",
       "              enable_categorical=False, eval_metric=None, feature_types=None,\n",
       "              gamma=None, gpu_id=None, grow_policy=None, importance_type=None,\n",
       "              interaction_constraints=None, learning_rate=0.35000000000000003,\n",
       "              max_bin=None, max_cat_threshold=None, max_cat_to_onehot=None,\n",
       "              max_delta_step=None, max_depth=1, max_leaves=None,\n",
       "              min_child_weight=2, missing=nan, monotone_constraints=None,\n",
       "              n_estimators=100, n_jobs=None, num_parallel_tree=None,\n",
       "              objective=&#x27;multi:softprob&#x27;, predictor=None, ...)</pre></div></div></div></div></div>"
      ],
      "text/plain": [
       "XGBClassifier(base_score=None, booster=None, callbacks=None,\n",
       "              colsample_bylevel=None, colsample_bynode=None,\n",
       "              colsample_bytree=0.45, early_stopping_rounds=None,\n",
       "              enable_categorical=False, eval_metric=None, feature_types=None,\n",
       "              gamma=None, gpu_id=None, grow_policy=None, importance_type=None,\n",
       "              interaction_constraints=None, learning_rate=0.35000000000000003,\n",
       "              max_bin=None, max_cat_threshold=None, max_cat_to_onehot=None,\n",
       "              max_delta_step=None, max_depth=1, max_leaves=None,\n",
       "              min_child_weight=2, missing=nan, monotone_constraints=None,\n",
       "              n_estimators=100, n_jobs=None, num_parallel_tree=None,\n",
       "              objective='multi:softprob', predictor=None, ...)"
      ]
     },
     "execution_count": 32,
     "metadata": {},
     "output_type": "execute_result"
    }
   ],
   "source": [
    "# Solution:\n",
    "xgboost2.fit(X_train, y_train)"
   ]
  },
  {
   "cell_type": "markdown",
   "metadata": {
    "id": "Z0oBRC_n0kjk"
   },
   "source": [
    "**[4.8]** Display the accuracy and f1 scores of this baseline model on the training and validation sets"
   ]
  },
  {
   "cell_type": "code",
   "execution_count": null,
   "metadata": {
    "id": "__oxPYWH0krY"
   },
   "outputs": [],
   "source": [
    "# Placeholder for student's code (Python code)"
   ]
  },
  {
   "cell_type": "code",
   "execution_count": null,
   "metadata": {
    "id": "q2WRU7fo0ktJ",
    "outputId": "bf483969-477c-4f73-870e-aeaa22623526"
   },
   "outputs": [
    {
     "name": "stdout",
     "output_type": "stream",
     "text": [
      "Accuracy Training: 0.8582093210546587\n",
      "F1 Training: 0.8561802532165359\n",
      "Accuracy Validation: 0.859639908401437\n",
      "F1 Validation: 0.8574571320912837\n"
     ]
    }
   ],
   "source": [
    "# Solution:\n",
    "print_class_perf(y_preds=xgboost2.predict(X_train), y_actuals=y_train, set_name='Training', average='weighted')\n",
    "print_class_perf(y_preds=xgboost2.predict(X_val), y_actuals=y_val, set_name='Validation', average='weighted')"
   ]
  },
  {
   "cell_type": "markdown",
   "metadata": {
    "id": "dSmI_Gaw0mDB"
   },
   "source": [
    "**[4.9]** Save the fitted model into the folder models as a file called `xgboost_best`"
   ]
  },
  {
   "cell_type": "code",
   "execution_count": null,
   "metadata": {
    "id": "585Uwlg50mKl"
   },
   "outputs": [],
   "source": [
    "# Placeholder for student's code (Python code)"
   ]
  },
  {
   "cell_type": "code",
   "execution_count": null,
   "metadata": {
    "id": "VY5n-7X-0mMy",
    "outputId": "0a1c24ab-6a5b-49b2-f5e1-c68745b4db11"
   },
   "outputs": [
    {
     "data": {
      "text/plain": [
       "['../models/xgboost_best.joblib']"
      ]
     },
     "execution_count": 42,
     "metadata": {},
     "output_type": "execute_result"
    }
   ],
   "source": [
    "# Solution:\n",
    "dump(xgboost2,  '../models/xgboost_best.joblib')"
   ]
  },
  {
   "cell_type": "markdown",
   "metadata": {
    "id": "1yX0Ocg4hcZM"
   },
   "source": [
    "# 5.   Push changes"
   ]
  },
  {
   "cell_type": "markdown",
   "metadata": {
    "id": "3guOKU9gjrmp"
   },
   "source": [
    "**[5.1]** Add you changes to git staging area"
   ]
  },
  {
   "cell_type": "code",
   "execution_count": null,
   "metadata": {
    "id": "lKuRNeqAj0ym"
   },
   "outputs": [],
   "source": [
    "# Placeholder for student's code (command line)"
   ]
  },
  {
   "cell_type": "code",
   "execution_count": null,
   "metadata": {
    "id": "axcj-jS0jruy"
   },
   "outputs": [],
   "source": [
    "# Solution:\n",
    "git add ."
   ]
  },
  {
   "cell_type": "markdown",
   "metadata": {
    "id": "6nUK2dp_j67X"
   },
   "source": [
    "**[5.2]** Create the snapshot of your repository and add a description"
   ]
  },
  {
   "cell_type": "code",
   "execution_count": null,
   "metadata": {
    "id": "1-M-aS-Ij7EE"
   },
   "outputs": [],
   "source": [
    "# Placeholder for student's code (command line)"
   ]
  },
  {
   "cell_type": "code",
   "execution_count": null,
   "metadata": {
    "id": "zovhzXRxj7Il"
   },
   "outputs": [],
   "source": [
    "# Solution:\n",
    "git commit -m \"xgboost hyperopt\""
   ]
  },
  {
   "cell_type": "markdown",
   "metadata": {
    "id": "Y9FciIQZj7nX"
   },
   "source": [
    "**[5.3]** Push your snapshot to Github\n"
   ]
  },
  {
   "cell_type": "code",
   "execution_count": null,
   "metadata": {
    "id": "IR7i6D5hj7uO"
   },
   "outputs": [],
   "source": [
    "# Placeholder for student's code (command line)"
   ]
  },
  {
   "cell_type": "code",
   "execution_count": null,
   "metadata": {
    "id": "WaVAgJ4Aj7wi"
   },
   "outputs": [],
   "source": [
    "# Solution:\n",
    "git push"
   ]
  },
  {
   "cell_type": "markdown",
   "metadata": {
    "id": "8B98cSvWkB-x"
   },
   "source": [
    "**[5.4]** Go to Github and merge the branch after reviewing the code and fixing any conflict\n",
    "\n",
    "\n"
   ]
  },
  {
   "cell_type": "markdown",
   "metadata": {
    "id": "d7a6bwMniAs1"
   },
   "source": [
    "**[5.5]** Check out to the master branch"
   ]
  },
  {
   "cell_type": "code",
   "execution_count": null,
   "metadata": {
    "id": "eM9v_33XiA1I"
   },
   "outputs": [],
   "source": [
    "# Placeholder for student's code (command line)"
   ]
  },
  {
   "cell_type": "code",
   "execution_count": null,
   "metadata": {
    "id": "d6-AI0x7iA4M"
   },
   "outputs": [],
   "source": [
    "# Solution:\n",
    "git checkout master"
   ]
  },
  {
   "cell_type": "markdown",
   "metadata": {
    "id": "v98Ka9kNiBLw"
   },
   "source": [
    "**[5.6]** Pull the latest updates"
   ]
  },
  {
   "cell_type": "code",
   "execution_count": null,
   "metadata": {
    "id": "yNZb1PyEjIOP"
   },
   "outputs": [],
   "source": [
    "# Placeholder for student's code (command line)"
   ]
  },
  {
   "cell_type": "code",
   "execution_count": null,
   "metadata": {
    "id": "5TJAEYxPjIRS"
   },
   "outputs": [],
   "source": [
    "# Solution\n",
    "git pull"
   ]
  },
  {
   "cell_type": "markdown",
   "metadata": {
    "id": "EkQx18jYiEvQ"
   },
   "source": [
    "**[5.7]** Stop the Docker container"
   ]
  },
  {
   "cell_type": "code",
   "execution_count": null,
   "metadata": {
    "id": "Y32K2BPx_VCx"
   },
   "outputs": [],
   "source": [
    "# Placeholder for student's code (command line)"
   ]
  },
  {
   "cell_type": "code",
   "execution_count": null,
   "metadata": {
    "id": "ovwOAbC5iE-T"
   },
   "outputs": [],
   "source": [
    "# Solution\n",
    "docker stop adv_dsi_lab_2"
   ]
  },
  {
   "cell_type": "markdown",
   "metadata": {
    "id": "5AS-TovMaS51"
   },
   "source": [
    "Documentation: https://docs.docker.com/engine/reference/commandline/stop/"
   ]
  }
 ],
 "metadata": {
  "colab": {
   "provenance": []
  },
  "kernelspec": {
   "display_name": "Python 3 (ipykernel)",
   "language": "python",
   "name": "python3"
  },
  "language_info": {
   "codemirror_mode": {
    "name": "ipython",
    "version": 3
   },
   "file_extension": ".py",
   "mimetype": "text/x-python",
   "name": "python",
   "nbconvert_exporter": "python",
   "pygments_lexer": "ipython3",
   "version": "3.9.13"
  }
 },
 "nbformat": 4,
 "nbformat_minor": 4
}
